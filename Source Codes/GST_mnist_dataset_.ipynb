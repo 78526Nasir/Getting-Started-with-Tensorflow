{
  "nbformat": 4,
  "nbformat_minor": 0,
  "metadata": {
    "colab": {
      "name": "GST - mnist dataset .ipynb",
      "version": "0.3.2",
      "provenance": [],
      "collapsed_sections": [],
      "include_colab_link": true
    },
    "kernelspec": {
      "name": "python3",
      "display_name": "Python 3"
    },
    "accelerator": "TPU"
  },
  "cells": [
    {
      "cell_type": "markdown",
      "metadata": {
        "id": "view-in-github",
        "colab_type": "text"
      },
      "source": [
        "<a href=\"https://colab.research.google.com/github/78526Nasir/Getting-Started-with-Tensorflow/blob/master/Source%20Codes/GST_mnist_dataset_.ipynb\" target=\"_parent\"><img src=\"https://colab.research.google.com/assets/colab-badge.svg\" alt=\"Open In Colab\"/></a>"
      ]
    },
    {
      "metadata": {
        "id": "FFsGUaXMgNER",
        "colab_type": "code",
        "colab": {}
      },
      "cell_type": "code",
      "source": [
        "import keras\n",
        "import numpy as np\n",
        "import pandas as pd\n",
        "import matplotlib.pyplot as plt\n",
        "%matplotlib inline\n",
        "import seaborn as sns\n",
        "from sklearn.metrics import confusion_matrix\n",
        "import tensorflow as tf\n",
        "import warnings\n",
        "warnings.filterwarnings(\"ignore\")\n",
        "from keras.utils.np_utils import to_categorical"
      ],
      "execution_count": 0,
      "outputs": []
    },
    {
      "metadata": {
        "id": "-N_S9uO9g4eJ",
        "colab_type": "code",
        "colab": {}
      },
      "cell_type": "code",
      "source": [
        "# load the mnist dataset\n",
        "# the mnist dataset contains 70,000 images\n",
        "mnist = tf.keras.datasets.mnist\n",
        "\n",
        "(x_train, y_train),(x_test, y_test) = mnist.load_data()"
      ],
      "execution_count": 0,
      "outputs": []
    },
    {
      "metadata": {
        "id": "uRa5tmorjkLy",
        "colab_type": "code",
        "colab": {
          "base_uri": "https://localhost:8080/",
          "height": 68
        },
        "outputId": "1319f3aa-e04d-4bd7-c2a1-7d5cc2af65b3"
      },
      "cell_type": "code",
      "source": [
        "x_train[0][5]"
      ],
      "execution_count": 29,
      "outputs": [
        {
          "output_type": "execute_result",
          "data": {
            "text/plain": [
              "array([  0,   0,   0,   0,   0,   0,   0,   0,   0,   0,   0,   0,   3,\n",
              "        18,  18,  18, 126, 136, 175,  26, 166, 255, 247, 127,   0,   0,\n",
              "         0,   0], dtype=uint8)"
            ]
          },
          "metadata": {
            "tags": []
          },
          "execution_count": 29
        }
      ]
    },
    {
      "metadata": {
        "id": "0YtQwnZBiAbn",
        "colab_type": "code",
        "colab": {
          "base_uri": "https://localhost:8080/",
          "height": 34
        },
        "outputId": "25dc41c2-5c07-4bd8-8113-3ac60bbb6b67"
      },
      "cell_type": "code",
      "source": [
        "# all the images are 28x28 pixels\n",
        "# 60,000 image in training and 10,000 for testing\n",
        "x_train.shape, x_test.shape"
      ],
      "execution_count": 8,
      "outputs": [
        {
          "output_type": "execute_result",
          "data": {
            "text/plain": [
              "((60000, 28, 28), (10000, 28, 28))"
            ]
          },
          "metadata": {
            "tags": []
          },
          "execution_count": 8
        }
      ]
    },
    {
      "metadata": {
        "id": "7TzI3cmrjzn9",
        "colab_type": "code",
        "colab": {}
      },
      "cell_type": "code",
      "source": [
        "def display_image(img):\n",
        "  plt.imshow(img, cmap = \"gray\")"
      ],
      "execution_count": 0,
      "outputs": []
    },
    {
      "metadata": {
        "id": "UVgi8JUikC7_",
        "colab_type": "code",
        "colab": {
          "base_uri": "https://localhost:8080/",
          "height": 347
        },
        "outputId": "ff382f43-7be0-4ed2-a50f-e674569711b9"
      },
      "cell_type": "code",
      "source": [
        "display_image(x_train[0])"
      ],
      "execution_count": 58,
      "outputs": [
        {
          "output_type": "display_data",
          "data": {
            "image/png": "[encoded data removed]",
            "text/plain": [
              "<Figure size 576x396 with 1 Axes>"
            ]
          },
          "metadata": {
            "tags": []
          }
        }
      ]
    },
    {
      "metadata": {
        "id": "h7hgO9ywkxOc",
        "colab_type": "code",
        "colab": {
          "base_uri": "https://localhost:8080/",
          "height": 34
        },
        "outputId": "9808f3ff-5b2b-4ddb-b10a-07b549ce29b5"
      },
      "cell_type": "code",
      "source": [
        "y_train[0]"
      ],
      "execution_count": 59,
      "outputs": [
        {
          "output_type": "execute_result",
          "data": {
            "text/plain": [
              "5"
            ]
          },
          "metadata": {
            "tags": []
          },
          "execution_count": 59
        }
      ]
    },
    {
      "metadata": {
        "id": "nTQdc2lciFAP",
        "colab_type": "code",
        "colab": {}
      },
      "cell_type": "code",
      "source": [
        "# model building \n",
        "model = tf.keras.models.Sequential([\n",
        "  tf.keras.layers.Flatten(input_shape=(28, 28)),\n",
        "  tf.keras.layers.Dense(512, activation=tf.nn.relu),\n",
        "  tf.keras.layers.Dropout(0.2),\n",
        "  tf.keras.layers.Dense(10, activation=tf.nn.softmax)\n",
        "])"
      ],
      "execution_count": 0,
      "outputs": []
    },
    {
      "metadata": {
        "id": "dH8tciBNiiaq",
        "colab_type": "code",
        "colab": {
          "base_uri": "https://localhost:8080/",
          "height": 204
        },
        "outputId": "f6157cd7-912f-4dc1-bd20-aa0f68bae14a"
      },
      "cell_type": "code",
      "source": [
        "# model feeding\n",
        "model.compile(optimizer='adam', loss='sparse_categorical_crossentropy', metrics=['accuracy'])\n",
        "\n",
        "model.fit(x_train, y_train, epochs=5)"
      ],
      "execution_count": 13,
      "outputs": [
        {
          "output_type": "stream",
          "text": [
            "Epoch 1/5\n",
            "60000/60000 [==============================] - 13s 218us/sample - loss: 13.1349 - acc: 0.1849\n",
            "Epoch 2/5\n",
            "60000/60000 [==============================] - 13s 209us/sample - loss: 13.1058 - acc: 0.1868\n",
            "Epoch 3/5\n",
            "60000/60000 [==============================] - 13s 220us/sample - loss: 13.1661 - acc: 0.1831\n",
            "Epoch 4/5\n",
            "60000/60000 [==============================] - 13s 217us/sample - loss: 13.0017 - acc: 0.1934\n",
            "Epoch 5/5\n",
            "60000/60000 [==============================] - 13s 215us/sample - loss: 13.0035 - acc: 0.1932\n"
          ],
          "name": "stdout"
        },
        {
          "output_type": "execute_result",
          "data": {
            "text/plain": [
              "<tensorflow.python.keras.callbacks.History at 0x7f849fb76320>"
            ]
          },
          "metadata": {
            "tags": []
          },
          "execution_count": 13
        }
      ]
    },
    {
      "metadata": {
        "id": "GVZPtU1Fi3k3",
        "colab_type": "code",
        "colab": {}
      },
      "cell_type": "code",
      "source": [
        "# model evaluation\n",
        "model.evaluate(x_test, y_test)"
      ],
      "execution_count": 0,
      "outputs": []
    },
    {
      "metadata": {
        "id": "NEtm2mEjjAAS",
        "colab_type": "text"
      },
      "cell_type": "markdown",
      "source": [
        "> __The accuracy was too bad ! let's normalize the data.__"
      ]
    },
    {
      "metadata": {
        "id": "DdV8PKSai_e0",
        "colab_type": "code",
        "colab": {}
      },
      "cell_type": "code",
      "source": [
        "x_train, x_test = x_train / 255.0, x_test / 255.0"
      ],
      "execution_count": 0,
      "outputs": []
    },
    {
      "metadata": {
        "id": "kFQuFWuSjP-f",
        "colab_type": "code",
        "colab": {
          "base_uri": "https://localhost:8080/",
          "height": 119
        },
        "outputId": "f7b5da21-4775-4edb-fb89-56cd74ccc177"
      },
      "cell_type": "code",
      "source": [
        "x_train[0][5]"
      ],
      "execution_count": 31,
      "outputs": [
        {
          "output_type": "execute_result",
          "data": {
            "text/plain": [
              "array([0.        , 0.        , 0.        , 0.        , 0.        ,\n",
              "       0.        , 0.        , 0.        , 0.        , 0.        ,\n",
              "       0.        , 0.        , 0.01176471, 0.07058824, 0.07058824,\n",
              "       0.07058824, 0.49411765, 0.53333333, 0.68627451, 0.10196078,\n",
              "       0.65098039, 1.        , 0.96862745, 0.49803922, 0.        ,\n",
              "       0.        , 0.        , 0.        ])"
            ]
          },
          "metadata": {
            "tags": []
          },
          "execution_count": 31
        }
      ]
    },
    {
      "metadata": {
        "id": "IELiuuBBjRZf",
        "colab_type": "code",
        "colab": {
          "base_uri": "https://localhost:8080/",
          "height": 204
        },
        "outputId": "d0b520e2-e5b5-4d7c-fbe2-d9eae96d78af"
      },
      "cell_type": "code",
      "source": [
        "# feeded new normalized dataset into the model\n",
        "model.fit(x_train, y_train, epochs=5)"
      ],
      "execution_count": 32,
      "outputs": [
        {
          "output_type": "stream",
          "text": [
            "Epoch 1/5\n",
            "60000/60000 [==============================] - 13s 221us/sample - loss: 0.2905 - acc: 0.9274\n",
            "Epoch 2/5\n",
            "60000/60000 [==============================] - 12s 207us/sample - loss: 0.1070 - acc: 0.9676\n",
            "Epoch 3/5\n",
            "60000/60000 [==============================] - 12s 201us/sample - loss: 0.0775 - acc: 0.9761\n",
            "Epoch 4/5\n",
            "60000/60000 [==============================] - 12s 203us/sample - loss: 0.0611 - acc: 0.9807\n",
            "Epoch 5/5\n",
            "60000/60000 [==============================] - 12s 207us/sample - loss: 0.0491 - acc: 0.9843\n"
          ],
          "name": "stdout"
        },
        {
          "output_type": "execute_result",
          "data": {
            "text/plain": [
              "<tensorflow.python.keras.callbacks.History at 0x7f8489e70e10>"
            ]
          },
          "metadata": {
            "tags": []
          },
          "execution_count": 32
        }
      ]
    },
    {
      "metadata": {
        "id": "0l7oNSvIjrM4",
        "colab_type": "code",
        "colab": {}
      },
      "cell_type": "code",
      "source": [
        "pred = model.predict(x_test)"
      ],
      "execution_count": 0,
      "outputs": []
    },
    {
      "metadata": {
        "id": "T_ZijHQlk9tA",
        "colab_type": "code",
        "colab": {
          "base_uri": "https://localhost:8080/",
          "height": 68
        },
        "outputId": "f593bf28-b080-471d-a1b9-ad702d7ad899"
      },
      "cell_type": "code",
      "source": [
        "pred[0]"
      ],
      "execution_count": 63,
      "outputs": [
        {
          "output_type": "execute_result",
          "data": {
            "text/plain": [
              "array([1.07475053e-07, 1.13211285e-09, 3.69185250e-06, 1.07554675e-04,\n",
              "       4.90602838e-13, 6.51905196e-08, 1.91303462e-12, 9.99885559e-01,\n",
              "       8.06866183e-08, 2.94035181e-06], dtype=float32)"
            ]
          },
          "metadata": {
            "tags": []
          },
          "execution_count": 63
        }
      ]
    },
    {
      "metadata": {
        "id": "Uyqjh2XhlBm0",
        "colab_type": "code",
        "colab": {}
      },
      "cell_type": "code",
      "source": [
        "# select the indix with the maximum probability\n",
        "results = np.argmax(pred, axis = 1)"
      ],
      "execution_count": 0,
      "outputs": []
    },
    {
      "metadata": {
        "id": "wfelGNCUra4G",
        "colab_type": "code",
        "colab": {
          "base_uri": "https://localhost:8080/",
          "height": 34
        },
        "outputId": "790f46b2-077a-468e-8167-b14210461598"
      },
      "cell_type": "code",
      "source": [
        "results"
      ],
      "execution_count": 104,
      "outputs": [
        {
          "output_type": "execute_result",
          "data": {
            "text/plain": [
              "array([7, 2, 1, ..., 4, 5, 6])"
            ]
          },
          "metadata": {
            "tags": []
          },
          "execution_count": 104
        }
      ]
    },
    {
      "metadata": {
        "id": "XDmWkdZure4D",
        "colab_type": "code",
        "colab": {
          "base_uri": "https://localhost:8080/",
          "height": 187
        },
        "outputId": "6d7f93e4-bf41-4ea3-f193-50ce38f4d320"
      },
      "cell_type": "code",
      "source": [
        "cm = confusion_matrix(results, y_test)\n",
        "cm"
      ],
      "execution_count": 105,
      "outputs": [
        {
          "output_type": "execute_result",
          "data": {
            "text/plain": [
              "array([[ 971,    0,    2,    0,    1,    2,    7,    1,    4,    1],\n",
              "       [   1, 1125,    1,    0,    0,    0,    3,    3,    0,    2],\n",
              "       [   1,    5, 1019,    7,    4,    0,    1,   15,    6,    0],\n",
              "       [   0,    1,    2,  993,    0,   11,    1,    1,    5,    2],\n",
              "       [   2,    0,    2,    0,  961,    2,    9,    0,    3,    8],\n",
              "       [   1,    0,    0,    1,    0,  870,    4,    0,    3,    2],\n",
              "       [   1,    1,    0,    0,    2,    1,  928,    0,    1,    0],\n",
              "       [   0,    0,    2,    1,    1,    0,    0,  997,    2,    3],\n",
              "       [   1,    3,    4,    1,    1,    3,    3,    2,  946,    0],\n",
              "       [   2,    0,    0,    7,   12,    3,    2,    9,    4,  991]])"
            ]
          },
          "metadata": {
            "tags": []
          },
          "execution_count": 105
        }
      ]
    },
    {
      "metadata": {
        "id": "iTLvz7lBsoXD",
        "colab_type": "code",
        "colab": {
          "base_uri": "https://localhost:8080/",
          "height": 390
        },
        "outputId": "40421636-dc9f-4372-a3a1-9bd5dd1d4fe6"
      },
      "cell_type": "code",
      "source": [
        "sns.set_context('paper', font_scale=1.3)\n",
        "\n",
        "plt.figure(figsize=(9, 6))\n",
        "sns.heatmap(cm, annot=True, fmt=\".1f\", cmap=\"Reds\")"
      ],
      "execution_count": 123,
      "outputs": [
        {
          "output_type": "execute_result",
          "data": {
            "text/plain": [
              "<matplotlib.axes._subplots.AxesSubplot at 0x7f848570dc18>"
            ]
          },
          "metadata": {
            "tags": []
          },
          "execution_count": 123
        },
        {
          "output_type": "display_data",
          "data": {
            "image/png": "[encoded data removed]",
            "text/plain": [
              "<Figure size 648x432 with 2 Axes>"
            ]
          },
          "metadata": {
            "tags": []
          }
        }
      ]
    },
    {
      "metadata": {
        "id": "N376CRnRtb_M",
        "colab_type": "code",
        "colab": {
          "base_uri": "https://localhost:8080/",
          "height": 51
        },
        "outputId": "94458e55-d632-48b5-eb71-e4d7479e3080"
      },
      "cell_type": "code",
      "source": [
        "model.evaluate(x_test, y_test)"
      ],
      "execution_count": 127,
      "outputs": [
        {
          "output_type": "stream",
          "text": [
            "10000/10000 [==============================] - 1s 56us/sample - loss: 0.0681 - acc: 0.9801\n"
          ],
          "name": "stdout"
        },
        {
          "output_type": "execute_result",
          "data": {
            "text/plain": [
              "[0.06808905268576927, 0.9801]"
            ]
          },
          "metadata": {
            "tags": []
          },
          "execution_count": 127
        }
      ]
    },
    {
      "metadata": {
        "id": "3eKczPiGvuXT",
        "colab_type": "text"
      },
      "cell_type": "markdown",
      "source": [
        ">__Let's try to reach the accuracy to 100% by increasing the epoch size.__"
      ]
    },
    {
      "metadata": {
        "id": "JOyBWku7vXW9",
        "colab_type": "code",
        "colab": {
          "base_uri": "https://localhost:8080/",
          "height": 1734
        },
        "outputId": "3bf669db-0870-4700-99d6-13ac4efb8da5"
      },
      "cell_type": "code",
      "source": [
        "model.fit(x_train, y_train, epochs=50)"
      ],
      "execution_count": 128,
      "outputs": [
        {
          "output_type": "stream",
          "text": [
            "Epoch 1/50\n",
            "60000/60000 [==============================] - 13s 222us/sample - loss: 0.0408 - acc: 0.9866\n",
            "Epoch 2/50\n",
            "60000/60000 [==============================] - 13s 220us/sample - loss: 0.0355 - acc: 0.9880\n",
            "Epoch 3/50\n",
            "60000/60000 [==============================] - 13s 225us/sample - loss: 0.0292 - acc: 0.9902\n",
            "Epoch 4/50\n",
            "60000/60000 [==============================] - 13s 220us/sample - loss: 0.0269 - acc: 0.9912\n",
            "Epoch 5/50\n",
            "60000/60000 [==============================] - 13s 224us/sample - loss: 0.0229 - acc: 0.9920\n",
            "Epoch 6/50\n",
            "60000/60000 [==============================] - 13s 223us/sample - loss: 0.0207 - acc: 0.9924\n",
            "Epoch 7/50\n",
            "60000/60000 [==============================] - 13s 225us/sample - loss: 0.0211 - acc: 0.9926\n",
            "Epoch 8/50\n",
            "60000/60000 [==============================] - 13s 216us/sample - loss: 0.0190 - acc: 0.9937\n",
            "Epoch 9/50\n",
            "60000/60000 [==============================] - 13s 219us/sample - loss: 0.0182 - acc: 0.9940\n",
            "Epoch 10/50\n",
            "60000/60000 [==============================] - 13s 220us/sample - loss: 0.0161 - acc: 0.9945\n",
            "Epoch 11/50\n",
            "60000/60000 [==============================] - 13s 217us/sample - loss: 0.0165 - acc: 0.9945\n",
            "Epoch 12/50\n",
            "60000/60000 [==============================] - 13s 218us/sample - loss: 0.0143 - acc: 0.9957\n",
            "Epoch 13/50\n",
            "60000/60000 [==============================] - 13s 217us/sample - loss: 0.0130 - acc: 0.9953\n",
            "Epoch 14/50\n",
            "60000/60000 [==============================] - 13s 219us/sample - loss: 0.0138 - acc: 0.9953\n",
            "Epoch 15/50\n",
            "60000/60000 [==============================] - 13s 216us/sample - loss: 0.0145 - acc: 0.9950\n",
            "Epoch 16/50\n",
            "60000/60000 [==============================] - 13s 216us/sample - loss: 0.0120 - acc: 0.9959\n",
            "Epoch 17/50\n",
            "60000/60000 [==============================] - 13s 215us/sample - loss: 0.0126 - acc: 0.9959\n",
            "Epoch 18/50\n",
            "60000/60000 [==============================] - 13s 220us/sample - loss: 0.0116 - acc: 0.9962\n",
            "Epoch 19/50\n",
            "60000/60000 [==============================] - 13s 215us/sample - loss: 0.0119 - acc: 0.9960\n",
            "Epoch 20/50\n",
            "60000/60000 [==============================] - 13s 220us/sample - loss: 0.0107 - acc: 0.9967\n",
            "Epoch 21/50\n",
            "60000/60000 [==============================] - 12s 208us/sample - loss: 0.0123 - acc: 0.9961\n",
            "Epoch 22/50\n",
            "60000/60000 [==============================] - 13s 213us/sample - loss: 0.0109 - acc: 0.9961\n",
            "Epoch 23/50\n",
            "60000/60000 [==============================] - 12s 207us/sample - loss: 0.0116 - acc: 0.9962\n",
            "Epoch 24/50\n",
            "60000/60000 [==============================] - 13s 217us/sample - loss: 0.0098 - acc: 0.9969\n",
            "Epoch 25/50\n",
            "60000/60000 [==============================] - 13s 212us/sample - loss: 0.0110 - acc: 0.9962\n",
            "Epoch 26/50\n",
            "60000/60000 [==============================] - 13s 219us/sample - loss: 0.0111 - acc: 0.9963\n",
            "Epoch 27/50\n",
            "60000/60000 [==============================] - 13s 213us/sample - loss: 0.0116 - acc: 0.9967\n",
            "Epoch 28/50\n",
            "60000/60000 [==============================] - 13s 216us/sample - loss: 0.0094 - acc: 0.9968\n",
            "Epoch 29/50\n",
            "60000/60000 [==============================] - 13s 216us/sample - loss: 0.0104 - acc: 0.9967\n",
            "Epoch 30/50\n",
            "60000/60000 [==============================] - 13s 220us/sample - loss: 0.0098 - acc: 0.9969\n",
            "Epoch 31/50\n",
            "60000/60000 [==============================] - 13s 222us/sample - loss: 0.0093 - acc: 0.9973\n",
            "Epoch 32/50\n",
            "60000/60000 [==============================] - 13s 224us/sample - loss: 0.0086 - acc: 0.9970\n",
            "Epoch 33/50\n",
            "60000/60000 [==============================] - 13s 219us/sample - loss: 0.0111 - acc: 0.9966\n",
            "Epoch 34/50\n",
            "60000/60000 [==============================] - 13s 217us/sample - loss: 0.0083 - acc: 0.9974\n",
            "Epoch 35/50\n",
            "60000/60000 [==============================] - 13s 220us/sample - loss: 0.0114 - acc: 0.9966\n",
            "Epoch 36/50\n",
            "60000/60000 [==============================] - 13s 218us/sample - loss: 0.0092 - acc: 0.9971\n",
            "Epoch 37/50\n",
            "60000/60000 [==============================] - 14s 226us/sample - loss: 0.0086 - acc: 0.9973\n",
            "Epoch 38/50\n",
            "60000/60000 [==============================] - 14s 225us/sample - loss: 0.0083 - acc: 0.9974\n",
            "Epoch 39/50\n",
            "60000/60000 [==============================] - 13s 212us/sample - loss: 0.0093 - acc: 0.9974\n",
            "Epoch 40/50\n",
            "60000/60000 [==============================] - 12s 199us/sample - loss: 0.0099 - acc: 0.9972\n",
            "Epoch 41/50\n",
            "60000/60000 [==============================] - 12s 204us/sample - loss: 0.0078 - acc: 0.9974\n",
            "Epoch 42/50\n",
            "60000/60000 [==============================] - 12s 204us/sample - loss: 0.0063 - acc: 0.9980\n",
            "Epoch 43/50\n",
            "60000/60000 [==============================] - 12s 206us/sample - loss: 0.0108 - acc: 0.9968\n",
            "Epoch 44/50\n",
            "60000/60000 [==============================] - 13s 213us/sample - loss: 0.0074 - acc: 0.9978\n",
            "Epoch 45/50\n",
            "60000/60000 [==============================] - 14s 226us/sample - loss: 0.0088 - acc: 0.9973\n",
            "Epoch 46/50\n",
            "60000/60000 [==============================] - 14s 230us/sample - loss: 0.0098 - acc: 0.9975\n",
            "Epoch 47/50\n",
            "60000/60000 [==============================] - 14s 228us/sample - loss: 0.0084 - acc: 0.9976\n",
            "Epoch 48/50\n",
            "60000/60000 [==============================] - 14s 225us/sample - loss: 0.0078 - acc: 0.9977\n",
            "Epoch 49/50\n",
            "60000/60000 [==============================] - 14s 229us/sample - loss: 0.0089 - acc: 0.9973\n",
            "Epoch 50/50\n",
            "60000/60000 [==============================] - 14s 230us/sample - loss: 0.0064 - acc: 0.9983\n"
          ],
          "name": "stdout"
        },
        {
          "output_type": "execute_result",
          "data": {
            "text/plain": [
              "<tensorflow.python.keras.callbacks.History at 0x7f8487989c50>"
            ]
          },
          "metadata": {
            "tags": []
          },
          "execution_count": 128
        }
      ]
    },
    {
      "metadata": {
        "id": "ag-Ibvyiv8Dd",
        "colab_type": "code",
        "colab": {
          "base_uri": "https://localhost:8080/",
          "height": 51
        },
        "outputId": "9f88bc12-1317-4f46-8648-72f6e2e6c1e8"
      },
      "cell_type": "code",
      "source": [
        "model.evaluate(x_test, y_test)"
      ],
      "execution_count": 129,
      "outputs": [
        {
          "output_type": "stream",
          "text": [
            "10000/10000 [==============================] - 1s 56us/sample - loss: 0.1169 - acc: 0.9826\n"
          ],
          "name": "stdout"
        },
        {
          "output_type": "execute_result",
          "data": {
            "text/plain": [
              "[0.11690978439851024, 0.9826]"
            ]
          },
          "metadata": {
            "tags": []
          },
          "execution_count": 129
        }
      ]
    },
    {
      "metadata": {
        "id": "WXRq6TmWzC2O",
        "colab_type": "code",
        "colab": {}
      },
      "cell_type": "code",
      "source": [
        "pred = model.predict(x_test)"
      ],
      "execution_count": 0,
      "outputs": []
    },
    {
      "metadata": {
        "id": "yDjVQdoYzJhO",
        "colab_type": "code",
        "colab": {}
      },
      "cell_type": "code",
      "source": [
        "results = pred.argmax(axis=1)"
      ],
      "execution_count": 0,
      "outputs": []
    },
    {
      "metadata": {
        "id": "bIBLwUuIzN22",
        "colab_type": "code",
        "colab": {
          "base_uri": "https://localhost:8080/",
          "height": 187
        },
        "outputId": "e7ee3107-6e43-4aca-989b-38914abe67ab"
      },
      "cell_type": "code",
      "source": [
        "cm = confusion_matrix(results, y_test)\n",
        "cm"
      ],
      "execution_count": 135,
      "outputs": [
        {
          "output_type": "execute_result",
          "data": {
            "text/plain": [
              "array([[ 975,    0,    4,    0,    1,    3,    3,    2,    0,    2],\n",
              "       [   1, 1128,    2,    0,    1,    0,    3,    3,    0,    3],\n",
              "       [   1,    3, 1013,    2,    5,    0,    1,    8,    5,    0],\n",
              "       [   1,    0,    4,  999,    0,   11,    1,    1,    7,    5],\n",
              "       [   0,    0,    1,    0,  967,    2,    3,    1,    4,    5],\n",
              "       [   0,    1,    0,    2,    0,  863,    3,    0,    1,    2],\n",
              "       [   0,    1,    0,    0,    1,    6,  942,    0,    1,    0],\n",
              "       [   1,    0,    4,    2,    0,    1,    0, 1000,    2,    1],\n",
              "       [   1,    2,    3,    2,    0,    4,    2,    7,  950,    2],\n",
              "       [   0,    0,    1,    3,    7,    2,    0,    6,    4,  989]])"
            ]
          },
          "metadata": {
            "tags": []
          },
          "execution_count": 135
        }
      ]
    },
    {
      "metadata": {
        "id": "GxTYMZ4WzO3-",
        "colab_type": "code",
        "colab": {
          "base_uri": "https://localhost:8080/",
          "height": 390
        },
        "outputId": "0ed2a93b-059f-4e4c-e092-057ae2d62db5"
      },
      "cell_type": "code",
      "source": [
        "sns.set_context('paper', font_scale=1.3)\n",
        "\n",
        "plt.figure(figsize=(9, 6))\n",
        "sns.heatmap(cm, annot=True, fmt=\".1f\", cmap=\"Blues\")"
      ],
      "execution_count": 137,
      "outputs": [
        {
          "output_type": "execute_result",
          "data": {
            "text/plain": [
              "<matplotlib.axes._subplots.AxesSubplot at 0x7f84854f9358>"
            ]
          },
          "metadata": {
            "tags": []
          },
          "execution_count": 137
        },
        {
          "output_type": "display_data",
          "data": {
            "image/png": "[encoded data removed]",
            "text/plain": [
              "<Figure size 648x432 with 2 Axes>"
            ]
          },
          "metadata": {
            "tags": []
          }
        }
      ]
    },
    {
      "metadata": {
        "id": "q9gj_odszZk_",
        "colab_type": "code",
        "colab": {}
      },
      "cell_type": "code",
      "source": [
        ""
      ],
      "execution_count": 0,
      "outputs": []
    }
  ]
}