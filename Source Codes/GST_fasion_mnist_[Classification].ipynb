{
  "nbformat": 4,
  "nbformat_minor": 0,
  "metadata": {
    "colab": {
      "name": "GST-fasion_mnist - [Classification].ipynb",
      "version": "0.3.2",
      "provenance": [],
      "collapsed_sections": [],
      "include_colab_link": true
    },
    "kernelspec": {
      "name": "python3",
      "display_name": "Python 3"
    }
  },
  "cells": [
    {
      "cell_type": "markdown",
      "metadata": {
        "id": "view-in-github",
        "colab_type": "text"
      },
      "source": [
        "<a href=\"https://colab.research.google.com/github/78526Nasir/Getting-Started-with-Tensorflow/blob/master/Source%20Codes/GST_fasion_mnist_%5BClassification%5D.ipynb\" target=\"_parent\"><img src=\"https://colab.research.google.com/assets/colab-badge.svg\" alt=\"Open In Colab\"/></a>"
      ]
    },
    {
      "metadata": {
        "id": "73MbJcN41Ott",
        "colab_type": "code",
        "colab": {
          "base_uri": "https://localhost:8080/",
          "height": 34
        },
        "outputId": "7ded9945-86f1-43bb-99e3-0f2058df11d1"
      },
      "cell_type": "code",
      "source": [
        "import keras\n",
        "import numpy as np\n",
        "import pandas\n",
        "import matplotlib.pyplot as plt\n",
        "%matplotlib inline\n",
        "import tensorflow as tf\n",
        "import seaborn as sns\n",
        "import warnings\n",
        "warnings.filterwarnings(\"ignore\")"
      ],
      "execution_count": 1,
      "outputs": [
        {
          "output_type": "stream",
          "text": [
            "Using TensorFlow backend.\n"
          ],
          "name": "stderr"
        }
      ]
    },
    {
      "metadata": {
        "id": "MBcDEP6R15lh",
        "colab_type": "text"
      },
      "cell_type": "markdown",
      "source": [
        "## Import the Fashion MNIST dataset\n",
        "\n",
        "Fashion MNIST dataset contains 70,000 grayscale images in 10 categories. The images show individual articles of clothing at low resolution (28 by 28 pixels), as seen here:\n",
        "\n",
        "![fashion_mnist](https://raw.githubusercontent.com/zalandoresearch/fashion-mnist/master/doc/img/fashion-mnist-sprite.png)\n",
        "\n"
      ]
    },
    {
      "metadata": {
        "id": "y5r2gHxz1noM",
        "colab_type": "code",
        "colab": {}
      },
      "cell_type": "code",
      "source": [
        "fashion_mnist = keras.datasets.fashion_mnist\n",
        "\n",
        "(train_images, train_labels), (test_images, test_labels) = fashion_mnist.load_data()"
      ],
      "execution_count": 0,
      "outputs": []
    },
    {
      "metadata": {
        "id": "t8X3qAHh9jLr",
        "colab_type": "code",
        "colab": {
          "base_uri": "https://localhost:8080/",
          "height": 34
        },
        "outputId": "1d6e93f1-deeb-4a9c-f30f-5991b3a17753"
      },
      "cell_type": "code",
      "source": [
        "train_images.shape"
      ],
      "execution_count": 3,
      "outputs": [
        {
          "output_type": "execute_result",
          "data": {
            "text/plain": [
              "(60000, 28, 28)"
            ]
          },
          "metadata": {
            "tags": []
          },
          "execution_count": 3
        }
      ]
    },
    {
      "metadata": {
        "id": "0hIhzZDj9lm7",
        "colab_type": "code",
        "colab": {
          "base_uri": "https://localhost:8080/",
          "height": 68
        },
        "outputId": "cde5e161-11f6-44f1-b9cf-6f2b0ea0eb71"
      },
      "cell_type": "code",
      "source": [
        "train_images[0][5]"
      ],
      "execution_count": 4,
      "outputs": [
        {
          "output_type": "execute_result",
          "data": {
            "text/plain": [
              "array([  0,   0,   0,   0,   0,   0,   0,   0,   0,   0,   0,   0,   6,\n",
              "         0, 102, 204, 176, 134, 144, 123,  23,   0,   0,   0,   0,  12,\n",
              "        10,   0], dtype=uint8)"
            ]
          },
          "metadata": {
            "tags": []
          },
          "execution_count": 4
        }
      ]
    },
    {
      "metadata": {
        "id": "UxwQ3SVU9rZT",
        "colab_type": "code",
        "colab": {
          "base_uri": "https://localhost:8080/",
          "height": 34
        },
        "outputId": "f24cfb51-6881-4061-e082-4d4d78ad69c4"
      },
      "cell_type": "code",
      "source": [
        "\"\"\"\n",
        "Label\tClass\n",
        "0\tT-shirt/top\n",
        "1\tTrouser\n",
        "2\tPullover\n",
        "3\tDress\n",
        "4\tCoat\n",
        "5\tSandal\n",
        "6\tShirt\n",
        "7\tSneaker\n",
        "8\tBag\n",
        "9\tAnkle boot\n",
        "\"\"\""
      ],
      "execution_count": 5,
      "outputs": [
        {
          "output_type": "execute_result",
          "data": {
            "text/plain": [
              "'\\nLabel\\tClass\\n0\\tT-shirt/top\\n1\\tTrouser\\n2\\tPullover\\n3\\tDress\\n4\\tCoat\\n5\\tSandal\\n6\\tShirt\\n7\\tSneaker\\n8\\tBag\\n9\\tAnkle boot\\n'"
            ]
          },
          "metadata": {
            "tags": []
          },
          "execution_count": 5
        }
      ]
    },
    {
      "metadata": {
        "id": "t10__r3ZGq3P",
        "colab_type": "code",
        "colab": {}
      },
      "cell_type": "code",
      "source": [
        "class_names = ['T-shirt/top', 'Trouser', 'Pullover', 'Dress', 'Coat', 'Sandal', 'Shirt', 'Sneaker', 'Bag', 'Ankle boot']"
      ],
      "execution_count": 0,
      "outputs": []
    },
    {
      "metadata": {
        "id": "5COos8hCGuz_",
        "colab_type": "code",
        "colab": {}
      },
      "cell_type": "code",
      "source": [
        "sns.set(style=\"white\")\n",
        "\n",
        "def display_image(img):\n",
        "  plt.xticks([])\n",
        "  plt.yticks([])\n",
        "  plt.imshow(img, cmap = \"gray_r\")\n",
        "  plt.colorbar()\n",
        "  plt.show()"
      ],
      "execution_count": 0,
      "outputs": []
    },
    {
      "metadata": {
        "id": "1JunBlOHG4SS",
        "colab_type": "code",
        "colab": {
          "base_uri": "https://localhost:8080/",
          "height": 340
        },
        "outputId": "9c5ef451-2cba-48df-d458-dfc4ea883f23"
      },
      "cell_type": "code",
      "source": [
        "display_image(train_images[0])"
      ],
      "execution_count": 30,
      "outputs": [
        {
          "output_type": "display_data",
          "data": {
            "image/png": "[encoded data removed]",
            "text/plain": [
              "<Figure size 576x396 with 2 Axes>"
            ]
          },
          "metadata": {
            "tags": []
          }
        }
      ]
    },
    {
      "metadata": {
        "id": "3gDxluqNG6tH",
        "colab_type": "code",
        "colab": {}
      },
      "cell_type": "code",
      "source": [
        "# scale these values to a range of 0 to 1 before feeding to the neural network model. \n",
        "\n",
        "train_images = train_images / 255.0\n",
        "test_images = test_images / 255.0"
      ],
      "execution_count": 0,
      "outputs": []
    },
    {
      "metadata": {
        "id": "anK__XarHOMT",
        "colab_type": "code",
        "colab": {
          "base_uri": "https://localhost:8080/",
          "height": 589
        },
        "outputId": "7492a2ee-8631-4e04-c8be-4812d341fe4f"
      },
      "cell_type": "code",
      "source": [
        "# Display the first 25 images from the training set and display the class name below each image. \n",
        "# Verify that the data is in the correct format and we're ready to build and train the network.\n",
        "\n",
        "plt.figure(figsize=(10,10))\n",
        "\n",
        "for i in range(25):\n",
        "    plt.subplot(5, 5, i+1)\n",
        "    plt.xticks([])\n",
        "    plt.yticks([])\n",
        "    plt.grid(False)\n",
        "    plt.imshow(train_images[i], cmap = plt.cm.binary)\n",
        "    plt.xlabel(class_names[train_labels[i]])\n",
        "    \n",
        "plt.show()"
      ],
      "execution_count": 10,
      "outputs": [
        {
          "output_type": "display_data",
          "data": {
            "image/png": "[encoded data removed]",
            "text/plain": [
              "<Figure size 720x720 with 25 Axes>"
            ]
          },
          "metadata": {
            "tags": []
          }
        }
      ]
    },
    {
      "metadata": {
        "id": "DRGZmNl4OqJJ",
        "colab_type": "text"
      },
      "cell_type": "markdown",
      "source": [
        "### Model Building"
      ]
    },
    {
      "metadata": {
        "id": "sdoYp8YeMIRl",
        "colab_type": "code",
        "colab": {
          "base_uri": "https://localhost:8080/",
          "height": 88
        },
        "outputId": "ba10a3c9-f9f3-4ee7-ae7f-3d06ae003d75"
      },
      "cell_type": "code",
      "source": [
        "model = keras.Sequential([\n",
        "    keras.layers.Flatten(input_shape=(28, 28)),\n",
        "    keras.layers.Dense(128, activation=tf.nn.relu),\n",
        "    keras.layers.Dense(10, activation=tf.nn.softmax)\n",
        "])"
      ],
      "execution_count": 11,
      "outputs": [
        {
          "output_type": "stream",
          "text": [
            "WARNING:tensorflow:From /usr/local/lib/python3.6/dist-packages/tensorflow/python/framework/op_def_library.py:263: colocate_with (from tensorflow.python.framework.ops) is deprecated and will be removed in a future version.\n",
            "Instructions for updating:\n",
            "Colocations handled automatically by placer.\n"
          ],
          "name": "stdout"
        }
      ]
    },
    {
      "metadata": {
        "id": "OqD_Lv0TOukr",
        "colab_type": "code",
        "colab": {}
      },
      "cell_type": "code",
      "source": [
        "model.compile(optimizer='adam', loss='sparse_categorical_crossentropy', metrics=['accuracy'])"
      ],
      "execution_count": 0,
      "outputs": []
    },
    {
      "metadata": {
        "id": "U0gRRrD8PAxS",
        "colab_type": "code",
        "colab": {
          "base_uri": "https://localhost:8080/",
          "height": 1805
        },
        "outputId": "0f16cc79-827c-40b6-d3d0-122ee0f1fb6a"
      },
      "cell_type": "code",
      "source": [
        "model.fit(train_images, train_labels, epochs=50)"
      ],
      "execution_count": 13,
      "outputs": [
        {
          "output_type": "stream",
          "text": [
            "WARNING:tensorflow:From /usr/local/lib/python3.6/dist-packages/tensorflow/python/ops/math_ops.py:3066: to_int32 (from tensorflow.python.ops.math_ops) is deprecated and will be removed in a future version.\n",
            "Instructions for updating:\n",
            "Use tf.cast instead.\n",
            "Epoch 1/50\n",
            "60000/60000 [==============================] - 7s 115us/step - loss: 0.4993 - acc: 0.8245\n",
            "Epoch 2/50\n",
            "60000/60000 [==============================] - 7s 110us/step - loss: 0.3776 - acc: 0.8638\n",
            "Epoch 3/50\n",
            "60000/60000 [==============================] - 7s 119us/step - loss: 0.3402 - acc: 0.8765\n",
            "Epoch 4/50\n",
            "60000/60000 [==============================] - 7s 111us/step - loss: 0.3125 - acc: 0.8854\n",
            "Epoch 5/50\n",
            "60000/60000 [==============================] - 7s 112us/step - loss: 0.2953 - acc: 0.8912\n",
            "Epoch 6/50\n",
            "60000/60000 [==============================] - 7s 114us/step - loss: 0.2798 - acc: 0.8956\n",
            "Epoch 7/50\n",
            "60000/60000 [==============================] - 7s 110us/step - loss: 0.2686 - acc: 0.8999\n",
            "Epoch 8/50\n",
            "60000/60000 [==============================] - 6s 108us/step - loss: 0.2571 - acc: 0.9040\n",
            "Epoch 9/50\n",
            "60000/60000 [==============================] - 7s 109us/step - loss: 0.2455 - acc: 0.9085\n",
            "Epoch 10/50\n",
            "60000/60000 [==============================] - 6s 108us/step - loss: 0.2378 - acc: 0.9104\n",
            "Epoch 11/50\n",
            "60000/60000 [==============================] - 7s 121us/step - loss: 0.2291 - acc: 0.9142\n",
            "Epoch 12/50\n",
            "60000/60000 [==============================] - 7s 113us/step - loss: 0.2228 - acc: 0.9168\n",
            "Epoch 13/50\n",
            "60000/60000 [==============================] - 7s 118us/step - loss: 0.2158 - acc: 0.9184\n",
            "Epoch 14/50\n",
            "60000/60000 [==============================] - 7s 109us/step - loss: 0.2088 - acc: 0.9214\n",
            "Epoch 15/50\n",
            "60000/60000 [==============================] - 6s 106us/step - loss: 0.2018 - acc: 0.9229\n",
            "Epoch 16/50\n",
            "60000/60000 [==============================] - 6s 106us/step - loss: 0.1957 - acc: 0.9259\n",
            "Epoch 17/50\n",
            "60000/60000 [==============================] - 6s 107us/step - loss: 0.1910 - acc: 0.9284\n",
            "Epoch 18/50\n",
            "60000/60000 [==============================] - 7s 114us/step - loss: 0.1889 - acc: 0.9296\n",
            "Epoch 19/50\n",
            "60000/60000 [==============================] - 7s 110us/step - loss: 0.1820 - acc: 0.9317\n",
            "Epoch 20/50\n",
            "60000/60000 [==============================] - 7s 114us/step - loss: 0.1771 - acc: 0.9332\n",
            "Epoch 21/50\n",
            "60000/60000 [==============================] - 7s 110us/step - loss: 0.1748 - acc: 0.9336\n",
            "Epoch 22/50\n",
            "60000/60000 [==============================] - 7s 109us/step - loss: 0.1693 - acc: 0.9364\n",
            "Epoch 23/50\n",
            "60000/60000 [==============================] - 6s 107us/step - loss: 0.1650 - acc: 0.9380\n",
            "Epoch 24/50\n",
            "60000/60000 [==============================] - 7s 111us/step - loss: 0.1601 - acc: 0.9394\n",
            "Epoch 25/50\n",
            "60000/60000 [==============================] - 7s 111us/step - loss: 0.1569 - acc: 0.9413\n",
            "Epoch 26/50\n",
            "60000/60000 [==============================] - 7s 111us/step - loss: 0.1553 - acc: 0.9412\n",
            "Epoch 27/50\n",
            "60000/60000 [==============================] - 7s 112us/step - loss: 0.1501 - acc: 0.9441\n",
            "Epoch 28/50\n",
            "60000/60000 [==============================] - 7s 110us/step - loss: 0.1471 - acc: 0.9444\n",
            "Epoch 29/50\n",
            "60000/60000 [==============================] - 7s 112us/step - loss: 0.1439 - acc: 0.9461\n",
            "Epoch 30/50\n",
            "60000/60000 [==============================] - 7s 114us/step - loss: 0.1416 - acc: 0.9456\n",
            "Epoch 31/50\n",
            "60000/60000 [==============================] - 7s 112us/step - loss: 0.1398 - acc: 0.9475\n",
            "Epoch 32/50\n",
            "60000/60000 [==============================] - 7s 109us/step - loss: 0.1350 - acc: 0.9493\n",
            "Epoch 33/50\n",
            "60000/60000 [==============================] - 7s 111us/step - loss: 0.1316 - acc: 0.9507\n",
            "Epoch 34/50\n",
            "60000/60000 [==============================] - 7s 111us/step - loss: 0.1299 - acc: 0.9521\n",
            "Epoch 35/50\n",
            "60000/60000 [==============================] - 7s 110us/step - loss: 0.1278 - acc: 0.9523\n",
            "Epoch 36/50\n",
            "60000/60000 [==============================] - 7s 109us/step - loss: 0.1236 - acc: 0.9538\n",
            "Epoch 37/50\n",
            "60000/60000 [==============================] - 6s 108us/step - loss: 0.1231 - acc: 0.9532\n",
            "Epoch 38/50\n",
            "60000/60000 [==============================] - 6s 108us/step - loss: 0.1176 - acc: 0.9553\n",
            "Epoch 39/50\n",
            "60000/60000 [==============================] - 7s 111us/step - loss: 0.1201 - acc: 0.9554\n",
            "Epoch 40/50\n",
            "60000/60000 [==============================] - 7s 109us/step - loss: 0.1167 - acc: 0.9562\n",
            "Epoch 41/50\n",
            "60000/60000 [==============================] - 7s 109us/step - loss: 0.1119 - acc: 0.9579\n",
            "Epoch 42/50\n",
            "60000/60000 [==============================] - 7s 112us/step - loss: 0.1105 - acc: 0.9587\n",
            "Epoch 43/50\n",
            "60000/60000 [==============================] - 7s 112us/step - loss: 0.1102 - acc: 0.9589\n",
            "Epoch 44/50\n",
            "60000/60000 [==============================] - 7s 110us/step - loss: 0.1073 - acc: 0.9590\n",
            "Epoch 45/50\n",
            "60000/60000 [==============================] - 7s 112us/step - loss: 0.1076 - acc: 0.9593\n",
            "Epoch 46/50\n",
            "60000/60000 [==============================] - 7s 110us/step - loss: 0.1013 - acc: 0.9624\n",
            "Epoch 47/50\n",
            "60000/60000 [==============================] - 7s 110us/step - loss: 0.1022 - acc: 0.9622\n",
            "Epoch 48/50\n",
            "60000/60000 [==============================] - 7s 110us/step - loss: 0.1021 - acc: 0.9622\n",
            "Epoch 49/50\n",
            "60000/60000 [==============================] - 7s 110us/step - loss: 0.0982 - acc: 0.9628\n",
            "Epoch 50/50\n",
            "60000/60000 [==============================] - 7s 109us/step - loss: 0.0975 - acc: 0.9636\n"
          ],
          "name": "stdout"
        },
        {
          "output_type": "execute_result",
          "data": {
            "text/plain": [
              "<keras.callbacks.History at 0x7efece2e1208>"
            ]
          },
          "metadata": {
            "tags": []
          },
          "execution_count": 13
        }
      ]
    },
    {
      "metadata": {
        "id": "YCfwCRVYPEUn",
        "colab_type": "code",
        "colab": {
          "base_uri": "https://localhost:8080/",
          "height": 51
        },
        "outputId": "ef578a28-3b41-440e-9780-414487a756a3"
      },
      "cell_type": "code",
      "source": [
        "test_loss, test_acc = model.evaluate(test_images, test_labels)\n",
        "\n",
        "print('Test accuracy:', test_acc)"
      ],
      "execution_count": 14,
      "outputs": [
        {
          "output_type": "stream",
          "text": [
            "10000/10000 [==============================] - 0s 34us/step\n",
            "Test accuracy: 0.8865\n"
          ],
          "name": "stdout"
        }
      ]
    },
    {
      "metadata": {
        "id": "mp5kbySmQmY2",
        "colab_type": "code",
        "colab": {}
      },
      "cell_type": "code",
      "source": [
        "pred = model.predict(test_images)"
      ],
      "execution_count": 0,
      "outputs": []
    },
    {
      "metadata": {
        "id": "rRLjhcaaQ5OR",
        "colab_type": "code",
        "colab": {
          "base_uri": "https://localhost:8080/",
          "height": 68
        },
        "outputId": "bb053241-724e-41f2-f80e-5dd852fc3746"
      },
      "cell_type": "code",
      "source": [
        "pred[0]"
      ],
      "execution_count": 16,
      "outputs": [
        {
          "output_type": "execute_result",
          "data": {
            "text/plain": [
              "array([1.65157184e-15, 2.39527517e-19, 4.53431089e-21, 1.73037395e-26,\n",
              "       1.22856164e-23, 1.41357127e-13, 5.27864920e-20, 7.08641153e-07,\n",
              "       1.95829107e-16, 9.99999285e-01], dtype=float32)"
            ]
          },
          "metadata": {
            "tags": []
          },
          "execution_count": 16
        }
      ]
    },
    {
      "metadata": {
        "id": "BZoOQyIAQ5zF",
        "colab_type": "code",
        "colab": {}
      },
      "cell_type": "code",
      "source": [
        "results = pred.argmax(axis=1)"
      ],
      "execution_count": 0,
      "outputs": []
    },
    {
      "metadata": {
        "id": "zVo3bya5Q9ay",
        "colab_type": "code",
        "colab": {
          "base_uri": "https://localhost:8080/",
          "height": 34
        },
        "outputId": "eb874670-cab8-4482-ba1c-135ee91d2c66"
      },
      "cell_type": "code",
      "source": [
        "results"
      ],
      "execution_count": 18,
      "outputs": [
        {
          "output_type": "execute_result",
          "data": {
            "text/plain": [
              "array([9, 2, 1, ..., 8, 1, 5])"
            ]
          },
          "metadata": {
            "tags": []
          },
          "execution_count": 18
        }
      ]
    },
    {
      "metadata": {
        "id": "-vilLK1SQ_CH",
        "colab_type": "code",
        "colab": {}
      },
      "cell_type": "code",
      "source": [
        "# We can graph to look at the full set of 10 channels:\n",
        "\n",
        "def plot_image(i, predictions_array, true_label, img):\n",
        "  predictions_array, true_label, img = predictions_array[i], true_label[i], img[i]\n",
        "  plt.grid(False)\n",
        "  plt.xticks([])\n",
        "  plt.yticks([])\n",
        "  \n",
        "  plt.imshow(img, cmap=plt.cm.binary)\n",
        "\n",
        "  predicted_label = np.argmax(predictions_array)\n",
        "  \n",
        "  if predicted_label == true_label:\n",
        "    color = 'blue'\n",
        "  else:\n",
        "    color = 'red'\n",
        "  \n",
        "  plt.xlabel(\"{} {:2.0f}% ({})\".format(class_names[predicted_label],\n",
        "                                100*np.max(predictions_array),\n",
        "                                class_names[true_label]),\n",
        "                                color=color)"
      ],
      "execution_count": 0,
      "outputs": []
    },
    {
      "metadata": {
        "id": "3I-dFCwBRVky",
        "colab_type": "code",
        "colab": {}
      },
      "cell_type": "code",
      "source": [
        "def plot_value_array(i, predictions_array, true_label):\n",
        "  predictions_array, true_label = predictions_array[i], true_label[i]\n",
        "  plt.grid(False)\n",
        "  plt.xticks([])\n",
        "  plt.yticks([])\n",
        "  thisplot = plt.bar(range(10), predictions_array, color=\"#777777\")\n",
        "  plt.ylim([0, 1]) \n",
        "  predicted_label = np.argmax(predictions_array)\n",
        " \n",
        "  thisplot[predicted_label].set_color('red')\n",
        "  thisplot[true_label].set_color('blue')"
      ],
      "execution_count": 0,
      "outputs": []
    },
    {
      "metadata": {
        "id": "kpp6vmj8RWbj",
        "colab_type": "code",
        "colab": {
          "base_uri": "https://localhost:8080/",
          "height": 203
        },
        "outputId": "7d870f49-0d11-4e19-b372-ce6951f9b9ae"
      },
      "cell_type": "code",
      "source": [
        "i = 0\n",
        "plt.figure(figsize=(6,3))\n",
        "plt.subplot(1,2,1)\n",
        "plot_image(i, pred, test_labels, test_images)\n",
        "plt.subplot(1,2,2)\n",
        "plot_value_array(i, pred,  test_labels)\n",
        "plt.show()"
      ],
      "execution_count": 21,
      "outputs": [
        {
          "output_type": "display_data",
          "data": {
            "image/png": "[encoded data removed]",
            "text/plain": [
              "<Figure size 432x216 with 2 Axes>"
            ]
          },
          "metadata": {
            "tags": []
          }
        }
      ]
    },
    {
      "metadata": {
        "id": "3H8czFQ5SF51",
        "colab_type": "code",
        "colab": {
          "base_uri": "https://localhost:8080/",
          "height": 203
        },
        "outputId": "74ad9336-26db-446f-b4d7-e036350ac7a4"
      },
      "cell_type": "code",
      "source": [
        "i = 12\n",
        "plt.figure(figsize=(6,3))\n",
        "plt.subplot(1,2,1)\n",
        "plot_image(i, pred, test_labels, test_images)\n",
        "plt.subplot(1,2,2)\n",
        "plot_value_array(i, pred,  test_labels)\n",
        "plt.show()"
      ],
      "execution_count": 22,
      "outputs": [
        {
          "output_type": "display_data",
          "data": {
            "image/png": "[encoded data removed]",
            "text/plain": [
              "<Figure size 432x216 with 2 Axes>"
            ]
          },
          "metadata": {
            "tags": []
          }
        }
      ]
    },
    {
      "metadata": {
        "id": "tpIKEqZ6StWk",
        "colab_type": "code",
        "colab": {
          "base_uri": "https://localhost:8080/",
          "height": 589
        },
        "outputId": "a701d5fe-c81f-4400-ee78-c64620d53f94"
      },
      "cell_type": "code",
      "source": [
        "# Plot the first X test images, their predicted label, and the true label\n",
        "# Color correct predictions in blue, incorrect predictions in red\n",
        "\n",
        "num_rows = 5\n",
        "num_cols = 3\n",
        "num_images = num_rows*num_cols\n",
        "\n",
        "plt.figure(figsize=(2*2*num_cols, 2*num_rows))\n",
        "\n",
        "for i in range(num_images):\n",
        "  plt.subplot(num_rows, 2*num_cols, 2*i+1)\n",
        "  plot_image(i, pred, test_labels, test_images)\n",
        "  plt.subplot(num_rows, 2*num_cols, 2*i+2)\n",
        "  plot_value_array(i, pred, test_labels)\n",
        "\n",
        "plt.show()"
      ],
      "execution_count": 23,
      "outputs": [
        {
          "output_type": "display_data",
          "data": {
            "image/png": "[encoded data removed]",
            "text/plain": [
              "<Figure size 864x720 with 30 Axes>"
            ]
          },
          "metadata": {
            "tags": []
          }
        }
      ]
    },
    {
      "metadata": {
        "id": "N1GLG96bTIGO",
        "colab_type": "code",
        "colab": {
          "base_uri": "https://localhost:8080/",
          "height": 34
        },
        "outputId": "cd3cfe5f-75c9-4453-d369-0e35d8aeb3fe"
      },
      "cell_type": "code",
      "source": [
        "# Grab an image from the test dataset\n",
        "img = test_images[0]\n",
        "\n",
        "print(img.shape)"
      ],
      "execution_count": 24,
      "outputs": [
        {
          "output_type": "stream",
          "text": [
            "(28, 28)\n"
          ],
          "name": "stdout"
        }
      ]
    },
    {
      "metadata": {
        "id": "jpcYlGjCT0Aw",
        "colab_type": "code",
        "colab": {
          "base_uri": "https://localhost:8080/",
          "height": 34
        },
        "outputId": "293a3fc0-39d2-49cd-beec-1d6a9b136326"
      },
      "cell_type": "code",
      "source": [
        "# Add the image to a batch where it's the only member.\n",
        "img = (np.expand_dims(img,0))\n",
        "\n",
        "print(img.shape)"
      ],
      "execution_count": 25,
      "outputs": [
        {
          "output_type": "stream",
          "text": [
            "(1, 28, 28)\n"
          ],
          "name": "stdout"
        }
      ]
    },
    {
      "metadata": {
        "id": "CQAyYlEcT83p",
        "colab_type": "code",
        "colab": {
          "base_uri": "https://localhost:8080/",
          "height": 51
        },
        "outputId": "a914fe4d-7fc7-475e-802c-c76566ebd3f5"
      },
      "cell_type": "code",
      "source": [
        "predictions_single = model.predict(img)\n",
        "\n",
        "print(predictions_single)"
      ],
      "execution_count": 26,
      "outputs": [
        {
          "output_type": "stream",
          "text": [
            "[[1.6515655e-15 2.3952752e-19 4.5343109e-21 1.7303541e-26 1.2285569e-23\n",
            "  1.4135713e-13 5.2786492e-20 7.0864047e-07 1.9582909e-16 9.9999928e-01]]\n"
          ],
          "name": "stdout"
        }
      ]
    },
    {
      "metadata": {
        "id": "x7YQVKyFUBwQ",
        "colab_type": "code",
        "colab": {
          "base_uri": "https://localhost:8080/",
          "height": 377
        },
        "outputId": "bb9b4878-1e90-4b4b-c172-00af6b87a86e"
      },
      "cell_type": "code",
      "source": [
        "plot_value_array(0, predictions_single, test_labels)\n",
        "plt.xticks(range(10), class_names, rotation=45)\n",
        "plt.show()"
      ],
      "execution_count": 27,
      "outputs": [
        {
          "output_type": "display_data",
          "data": {
            "image/png": "[encoded data removed]",
            "text/plain": [
              "<Figure size 576x396 with 1 Axes>"
            ]
          },
          "metadata": {
            "tags": []
          }
        }
      ]
    },
    {
      "metadata": {
        "id": "gaYnLzzTUIUh",
        "colab_type": "code",
        "colab": {
          "base_uri": "https://localhost:8080/",
          "height": 34
        },
        "outputId": "87f1bcc5-5944-4c09-8ef3-6baf60d78b7e"
      },
      "cell_type": "code",
      "source": [
        "np.argmax(predictions_single[0])"
      ],
      "execution_count": 28,
      "outputs": [
        {
          "output_type": "execute_result",
          "data": {
            "text/plain": [
              "9"
            ]
          },
          "metadata": {
            "tags": []
          },
          "execution_count": 28
        }
      ]
    },
    {
      "metadata": {
        "id": "0ngkye3dUiMF",
        "colab_type": "code",
        "colab": {}
      },
      "cell_type": "code",
      "source": [
        ""
      ],
      "execution_count": 0,
      "outputs": []
    }
  ]
}